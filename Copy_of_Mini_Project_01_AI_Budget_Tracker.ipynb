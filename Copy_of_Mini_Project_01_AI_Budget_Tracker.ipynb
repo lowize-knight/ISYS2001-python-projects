{
  "cells": [
    {
      "cell_type": "markdown",
      "metadata": {
        "id": "view-in-github",
        "colab_type": "text"
      },
      "source": [
        "<a href=\"https://colab.research.google.com/github/lowize-knight/ISYS2001-python-projects/blob/main/Copy_of_Mini_Project_01_AI_Budget_Tracker.ipynb\" target=\"_parent\"><img src=\"https://colab.research.google.com/assets/colab-badge.svg\" alt=\"Open In Colab\"/></a>"
      ]
    },
    {
      "cell_type": "markdown",
      "id": "45b851c9",
      "metadata": {
        "id": "45b851c9"
      },
      "source": [
        "# Mini Project 01: AI-Powered Budget Tracker\n",
        "# ISYS2001 Introduction to Business Programming\n",
        "\n",
        "**Instructions:**\n",
        "1. Save a copy of this notebook to your Google Drive (File > Save a copy in Drive)  \n",
        "2. Rename it to include your name: `Week1_Budget_Tracker_[YourName]`  \n",
        "3. Complete all sections and code cells  \n",
        "4. Document your AI interactions as you go\n"
      ]
    },
    {
      "cell_type": "markdown",
      "id": "a60fc4c8",
      "metadata": {
        "id": "a60fc4c8"
      },
      "source": [
        "## Part 1: Environment Setup and First Steps"
      ]
    },
    {
      "cell_type": "code",
      "execution_count": null,
      "id": "2e576bd1",
      "metadata": {
        "id": "2e576bd1",
        "colab": {
          "base_uri": "https://localhost:8080/"
        },
        "outputId": "926551e3-e091-4c5f-9054-b561a3194d13"
      },
      "outputs": [
        {
          "output_type": "stream",
          "name": "stdout",
          "text": [
            "🎉 Welcome to ISYS2001: Introduction to Business Programming!\n",
            "📊 Project: Personal Finance Assistant\n",
            "🤖 Today's Goal: Build a Simple Budget Tracker with AI Help\n",
            "\n",
            "📅 Worksheet started at: 2025-08-05 09:42:17\n"
          ]
        }
      ],
      "source": [
        "# Run this cell to test your environment\n",
        "print(\"🎉 Welcome to ISYS2001: Introduction to Business Programming!\")\n",
        "print(\"📊 Project: Personal Finance Assistant\")\n",
        "print(\"🤖 Today's Goal: Build a Simple Budget Tracker with AI Help\")\n",
        "\n",
        "# Import datetime to timestamp your work\n",
        "from datetime import datetime\n",
        "print(f\"\\n📅 Worksheet started at: {datetime.now().strftime('%Y-%m-%d %H:%M:%S')}\")"
      ]
    },
    {
      "cell_type": "markdown",
      "id": "7ac0ada2",
      "metadata": {
        "id": "7ac0ada2"
      },
      "source": [
        "## Part 2: Your First AI Prompt\n",
        "\n",
        "Use an AI assistant (Gemini in Colab, ChatGPT, or GitHub Copilot) to create a program that:\n",
        "- Asks the user for their name\n",
        "- Asks for their monthly income  \n",
        "- Prints a personalized welcome message\n",
        "\n",
        "### 📝 Document Your AI Prompt Below:"
      ]
    },
    {
      "cell_type": "code",
      "execution_count": null,
      "id": "62045e66",
      "metadata": {
        "id": "62045e66",
        "colab": {
          "base_uri": "https://localhost:8080/"
        },
        "outputId": "135af3c9-707a-40cc-b08d-7e9446c34790"
      },
      "outputs": [
        {
          "output_type": "stream",
          "name": "stdout",
          "text": [
            "What is your name? lowize\n",
            "What is your monthly income? 1000\n",
            "Welcome, lowize! Your monthly income is $1000.0.\n"
          ]
        }
      ],
      "source": [
        "# TASK: Write your AI prompt as a comment below\n",
        "\"\"\"\n",
        "My AI Prompt:\n",
        "\"\"\"\n",
        "# Can you help me write a simple Python program that:\n",
        "# - Asks for the user's name\n",
        "# - Asks for their monthly income\n",
        "# - Prints a welcome message using their name\n",
        "\n",
        "\n",
        "# Paste the AI-generated code below:\n",
        "# [YOUR AI-GENERATED CODE GOES HERE]\n",
        "# Paste the AI-generated code below:\n",
        "name = input(\"What is your name? \")\n",
        "income = float(input(\"What is your monthly income? \"))\n",
        "print(f\"Welcome, {name}! Your monthly income is ${income}.\")\n"
      ]
    },
    {
      "cell_type": "markdown",
      "id": "daaaec49",
      "metadata": {
        "id": "daaaec49"
      },
      "source": [
        "### 🔍 Evidence Package Entry #1"
      ]
    },
    {
      "cell_type": "code",
      "execution_count": null,
      "id": "667d3549",
      "metadata": {
        "id": "667d3549",
        "colab": {
          "base_uri": "https://localhost:8080/"
        },
        "outputId": "98f6ec85-016f-4629-b360-4b7f460ab2b8"
      },
      "outputs": [
        {
          "output_type": "stream",
          "name": "stdout",
          "text": [
            "📋 EVIDENCE PACKAGE #1\n",
            "timestamp: 2025-08-05 09:46:51\n",
            "context: I wanted to create a simple input/output program to practice AI prompting\n",
            "ai_tool_used: ChatGPT\n",
            "what_worked: The AI understood my request and help me fix errors\n",
            "what_didnt: I had to clarify to use float() to handle decimal income\n",
            "what_i_learned: I learned that specific prompts give a better AI results\n"
          ]
        }
      ],
      "source": [
        "# Evidence Package Documentation\n",
        "evidence_1 = {\n",
        "    \"timestamp\": datetime.now().strftime('%Y-%m-%d %H:%M:%S'),\n",
        "    \"context\": \"I wanted to create a simple input/output program to practice AI prompting\",\n",
        "    \"ai_tool_used\": \"ChatGPT\",  # Update this\n",
        "    \"what_worked\": \"The AI understood my request and help me fix errors\",\n",
        "    \"what_didnt\": \"I had to clarify to use float() to handle decimal income\",\n",
        "    \"what_i_learned\": \"I learned that specific prompts give a better AI results\"\n",
        "}\n",
        "\n",
        "# Display your evidence\n",
        "print(\"📋 EVIDENCE PACKAGE #1\")\n",
        "for key, value in evidence_1.items():\n",
        "    print(f\"{key}: {value}\")"
      ]
    },
    {
      "cell_type": "markdown",
      "id": "182c831f",
      "metadata": {
        "id": "182c831f"
      },
      "source": [
        "## Part 3: Building the Budget Tracker\n",
        "\n",
        "Use AI to help you write a program that:\n",
        "- Allows users to input their monthly income\n",
        "- Allows users to input up to 3 expenses  \n",
        "- Calculates remaining budget\n",
        "- Shows a warning if budget is negative\n",
        "\n",
        "### 💡 Pro Tip: Be specific about requirements!"
      ]
    },
    {
      "cell_type": "code",
      "execution_count": null,
      "id": "74e672e3",
      "metadata": {
        "id": "74e672e3",
        "colab": {
          "base_uri": "https://localhost:8080/",
          "height": 53
        },
        "outputId": "0f9c1ca2-343c-4f7e-c568-0ce603674df6"
      },
      "outputs": [
        {
          "output_type": "execute_result",
          "data": {
            "text/plain": [
              "'\\nMy Budget Tracker Prompt:\\nHelp me write a Python program that:\\n- Asks the user to enter monthly income\\n- Asks for 3 expenses\\n- Calculates the total expenses\\n- Shows the remaining budget\\n- Warns if the budget goes negative\\n'"
            ],
            "application/vnd.google.colaboratory.intrinsic+json": {
              "type": "string"
            }
          },
          "metadata": {},
          "execution_count": 88
        }
      ],
      "source": [
        "# TASK: Write your detailed prompt for the budget tracker\n",
        "\n",
        "\n",
        "\n",
        "\"\"\"\n",
        "My Budget Tracker Prompt:\n",
        "Help me write a Python program that:\n",
        "- Asks the user to enter monthly income\n",
        "- Asks for 3 expenses\n",
        "- Calculates the total expenses\n",
        "- Shows the remaining budget\n",
        "- Warns if the budget goes negative\n",
        "\"\"\"\n"
      ]
    },
    {
      "cell_type": "markdown",
      "id": "4bcfacf4",
      "metadata": {
        "id": "4bcfacf4"
      },
      "source": [
        "### Paste and Test Your AI-Generated Budget Tracker"
      ]
    },
    {
      "cell_type": "code",
      "execution_count": null,
      "id": "2501e778",
      "metadata": {
        "id": "2501e778",
        "colab": {
          "base_uri": "https://localhost:8080/"
        },
        "outputId": "72e53f8c-5346-4ce5-db18-d9bb3bf7aae3"
      },
      "outputs": [
        {
          "output_type": "stream",
          "name": "stdout",
          "text": [
            "Enter your monthly income: $1000\n",
            "Enter expense 1: $500\n",
            "Enter expense 2: $200\n",
            "Enter expense 3: $300\n",
            "\n",
            "--- Budget Summary ---\n",
            "Total Expenses: $1000.0\n",
            "Remaining Budget: $0.0\n",
            "✅ Great job! You're within your budget.\n"
          ]
        }
      ],
      "source": [
        "# AI-GENERATED BUDGET TRACKER CODE\n",
        "# # Ask for income\n",
        "income = float(input(\"Enter your monthly income: $\"))\n",
        "\n",
        "# Ask for 3 expenses\n",
        "expense1 = float(input(\"Enter expense 1: $\"))\n",
        "expense2 = float(input(\"Enter expense 2: $\"))\n",
        "expense3 = float(input(\"Enter expense 3: $\"))\n",
        "\n",
        "# Calculate total expense and remaining\n",
        "total_expenses = expense1 + expense2 + expense3\n",
        "remaining = income - total_expenses\n",
        "\n",
        "# Output results\n",
        "print(\"\\n--- Budget Summary ---\")\n",
        "print(f\"Total Expenses: ${total_expenses}\")\n",
        "print(f\"Remaining Budget: ${remaining}\")\n",
        "\n",
        "# Show warning if negative\n",
        "if remaining < 0:\n",
        "    print(\"⚠️ Warning: Your budget is in deficit!\")\n",
        "else:\n",
        "    print(\"✅ Great job! You're within your budget.\")\n",
        "\n",
        "\n"
      ]
    },
    {
      "cell_type": "markdown",
      "id": "f541d525",
      "metadata": {
        "id": "f541d525"
      },
      "source": [
        "### 🐛 Debugging and Refinement"
      ]
    },
    {
      "cell_type": "code",
      "execution_count": null,
      "id": "3f624a27",
      "metadata": {
        "id": "3f624a27",
        "colab": {
          "base_uri": "https://localhost:8080/"
        },
        "outputId": "53363e67-6dba-4745-e96f-2e21e01b293d"
      },
      "outputs": [
        {
          "output_type": "stream",
          "name": "stdout",
          "text": [
            "🔧 DEBUGGING NOTES:\n",
            "- Issue 1: [Describe the problem]\n",
            "- Fix 1: [How you solved it]\n"
          ]
        }
      ],
      "source": [
        "# Document any issues and fixes\n",
        "issues_found = [\n",
        "    \"Issue 1: [Describe the problem]\",\n",
        "    \"Fix 1: [How you solved it]\",\n",
        "    # Add more as needed\n",
        "]\n",
        "\n",
        "print(\"🔧 DEBUGGING NOTES:\")\n",
        "for item in issues_found:\n",
        "    print(f\"- {item}\")"
      ]
    },
    {
      "cell_type": "code",
      "execution_count": null,
      "id": "0772261d",
      "metadata": {
        "id": "0772261d"
      },
      "outputs": [],
      "source": [
        "# REFINED VERSION - Your Working Budget Tracker\n",
        "# [Paste your corrected/improved code here]"
      ]
    },
    {
      "cell_type": "markdown",
      "id": "ca842a66",
      "metadata": {
        "id": "ca842a66"
      },
      "source": [
        "## Part 4: Enhancement Challenge\n",
        "\n",
        "Choose ONE feature to add using AI assistance:\n",
        "- 🏷️ Expense categories (food, transport, entertainment)\n",
        "- 📊 Show percentage of income spent\n",
        "- ✅ Input validation (no negative numbers)\n",
        "- 📝 Detailed budget summary with advice"
      ]
    },
    {
      "cell_type": "code",
      "execution_count": null,
      "id": "fbd649d2",
      "metadata": {
        "id": "fbd649d2"
      },
      "outputs": [],
      "source": [
        "# Document your enhancement\n",
        "enhancement_choice = \"I chose to add: Show percentage of income spent\"\n",
        "enhancement_prompt = \"\"\"\n",
        "Help me modify the budget tracker so it also prints out the percentage\n",
        "each expense takes from the total income.\n",
        "\"\"\"\n",
        "\n",
        "print(f\"🚀 ENHANCEMENT: {enhancement_choice}\")"
      ]
    },
    {
      "cell_type": "code",
      "execution_count": null,
      "id": "b12879f3",
      "metadata": {
        "id": "b12879f3",
        "colab": {
          "base_uri": "https://localhost:8080/"
        },
        "outputId": "43b50a76-46a5-4d64-ac3a-7deb504e5ac1"
      },
      "outputs": [
        {
          "output_type": "stream",
          "name": "stdout",
          "text": [
            "Food expense: $300\n",
            "Transport expense: $100\n",
            "Entertainment expense: $500\n",
            "\n",
            "Total Expenses: $900.0\n",
            "Remaining Budget: $100.0\n",
            "\n",
            "Expense Breakdown:\n",
            "- Food: 30.00%\n",
            "- Transport: 10.00%\n",
            "- Entertainment: 50.00%\n",
            "✅ You are within your budget.\n"
          ]
        }
      ],
      "source": [
        "# ENHANCED BUDGET TRACKER\n",
        "# income = float(input(\"Enter your monthly income: $\"))\n",
        "\n",
        "expense1 = float(input(\"Food expense: $\"))\n",
        "expense2 = float(input(\"Transport expense: $\"))\n",
        "expense3 = float(input(\"Entertainment expense: $\"))\n",
        "\n",
        "total_expense = expense1 + expense2 + expense3\n",
        "remaining = income - total_expense\n",
        "\n",
        "print(f\"\\nTotal Expenses: ${total_expense}\")\n",
        "print(f\"Remaining Budget: ${remaining}\")\n",
        "\n",
        "# 显示百分比\n",
        "print(\"\\nExpense Breakdown:\")\n",
        "print(f\"- Food: {expense1 / income * 100:.2f}%\")\n",
        "print(f\"- Transport: {expense2 / income * 100:.2f}%\")\n",
        "print(f\"- Entertainment: {expense3 / income * 100:.2f}%\")\n",
        "\n",
        "if remaining < 0:\n",
        "    print(\"⚠️ Warning: You are over budget!\")\n",
        "else:\n",
        "    print(\"✅ You are within your budget.\")''"
      ]
    },
    {
      "cell_type": "markdown",
      "id": "cfa2845b",
      "metadata": {
        "id": "cfa2845b"
      },
      "source": [
        "## Part 5: Reflection and Lab Exit Ticket Preparation"
      ]
    },
    {
      "cell_type": "code",
      "execution_count": null,
      "id": "220ff6b4",
      "metadata": {
        "id": "220ff6b4",
        "colab": {
          "base_uri": "https://localhost:8080/"
        },
        "outputId": "f76396bd-6ee8-40dd-f1a5-c5028c45282c"
      },
      "outputs": [
        {
          "output_type": "stream",
          "name": "stdout",
          "text": [
            "📋 EVIDENCE PACKAGE #2 (Final)\n",
            "timestamp: 2025-08-05 10:07:12\n",
            "context: Creating the full budget tracker with enhancements\n",
            "ai_tool_used: ChatGPT\n",
            "prompts_used: 3\n",
            "iterations_needed: 2\n",
            "final_reflection: I learned how to use AI to build and enhance a basic Python program.\n"
          ]
        }
      ],
      "source": [
        "evidence_2 = {\n",
        "    \"timestamp\": datetime.now().strftime('%Y-%m-%d %H:%M:%S'),\n",
        "    \"context\": \"Creating the full budget tracker with enhancements\",\n",
        "    \"ai_tool_used\": \"ChatGPT\",\n",
        "    \"prompts_used\": 3,\n",
        "    \"iterations_needed\": 2,\n",
        "    \"final_reflection\": \"I learned how to use AI to build and enhance a basic Python program.\"\n",
        "}\n",
        "\n",
        "print(\"📋 EVIDENCE PACKAGE #2 (Final)\")\n",
        "for key, value in evidence_2.items():\n",
        "    print(f\"{key}: {value}\")\n"
      ]
    },
    {
      "cell_type": "markdown",
      "id": "69d17be0",
      "metadata": {
        "id": "69d17be0"
      },
      "source": [
        "## 🎯 Submission Checklist\n",
        "\n",
        "Before submitting:\n",
        "- ✅ All code cells run without errors\n",
        "- ✅ You've documented at least 2 AI interactions  \n",
        "- ✅ Budget tracker accepts income and 3+ expenses\n",
        "- ✅ Completed both Evidence Packages\n",
        "- ✅ Attempted the enhancement challenge\n",
        "- ✅ Reflected on your AI collaboration experience"
      ]
    },
    {
      "cell_type": "code",
      "execution_count": null,
      "id": "0d85c2f1",
      "metadata": {
        "id": "0d85c2f1"
      },
      "outputs": [],
      "source": [
        "# Generate submission summary\n",
        "print(\"=\"*50)\n",
        "print(\"WEEK 1 WORKSHEET COMPLETION SUMMARY\")\n",
        "print(\"=\"*50)\n",
        "print(f\"Student Name: [Your Name]\")\n",
        "print(f\"Completion Time: {datetime.now().strftime('%Y-%m-%d %H:%M:%S')}\")\n",
        "print(\"\\nCore Features Implemented:\")\n",
        "print(\"✅ Basic income/expense input\")\n",
        "print(\"✅ Budget calculation\")\n",
        "print(\"✅ Warning for negative budget\")\n",
        "print(\"✅ Enhancement: [Your enhancement]\")\n",
        "print(\"\\nAI Collaboration Stats:\")\n",
        "print(f\"- AI tools used: [List them]\")\n",
        "print(f\"- Number of prompts: [Count]\")\n",
        "print(f\"- Success rate: [Estimate]%\")\n",
        "print(\"\\n🎉 Ready for Lab Exit Ticket submission!\")"
      ]
    },
    {
      "cell_type": "markdown",
      "id": "63b51742",
      "metadata": {
        "id": "63b51742"
      },
      "source": [
        "## 💭 Final Reflection Questions\n",
        "\n",
        "**1. What surprised you most about working with AI to generate code?**  \n",
        "[Your answer here]\n",
        "\n",
        "**2. What makes a good prompt vs. a poor prompt?**  \n",
        "[Your answer here]\n",
        "\n",
        "**3. How do you see AI tools fitting into your future programming workflow?**  \n",
        "[Your answer here]\n",
        "\n",
        "---\n",
        "\n",
        "### 📁 Save and Next Steps:\n",
        "1. File > Save a copy in GitHub (if you haven't already)    \n",
        "2. Prepare evidence for next lab session for the Exit Ticket  \n",
        "3. Start thinking about Week 2: Variables & Data Types!\n"
      ]
    },
    {
      "cell_type": "code",
      "source": [],
      "metadata": {
        "id": "rdAf6Gc517wB"
      },
      "id": "rdAf6Gc517wB",
      "execution_count": null,
      "outputs": []
    }
  ],
  "metadata": {
    "colab": {
      "provenance": [],
      "toc_visible": true,
      "include_colab_link": true
    },
    "language_info": {
      "name": "python"
    },
    "kernelspec": {
      "name": "python3",
      "display_name": "Python 3"
    }
  },
  "nbformat": 4,
  "nbformat_minor": 5
}