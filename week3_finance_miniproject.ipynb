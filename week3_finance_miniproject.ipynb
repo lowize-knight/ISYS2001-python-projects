{
  "cells": [
    {
      "cell_type": "markdown",
      "metadata": {
        "id": "view-in-github",
        "colab_type": "text"
      },
      "source": [
        "<a href=\"https://colab.research.google.com/github/lowize-knight/ISYS2001-python-projects/blob/main/week3_finance_miniproject.ipynb\" target=\"_parent\"><img src=\"https://colab.research.google.com/assets/colab-badge.svg\" alt=\"Open In Colab\"/></a>"
      ]
    },
    {
      "cell_type": "markdown",
      "metadata": {
        "id": "m2WIkVMIUSZ8"
      },
      "source": [
        "# Week 3 Mini-Project: Smart Budget Decisions\n",
        "\n",
        "## Project Overview\n",
        "\n",
        "This week, you'll build the **decision-making foundation** for your personal finance tracker. By the end, you'll have a program that makes smart budget decisions - the same logic patterns you learned with grade calculators, but applied to real financial scenarios.\n",
        "\n",
        "## Learning Objectives\n",
        "\n",
        "- Apply if/elif/else to financial decision making\n",
        "- Practice input validation with money amounts\n",
        "- Build reusable financial logic patterns\n",
        "- Start your semester-long finance tracker project"
      ]
    },
    {
      "cell_type": "code",
      "source": [
        "amount = float(input(\"Enter an expense amount: $\"))\n",
        "\n",
        "\n",
        "amount = float(input(\"Enter an expense amount: $\"))\n",
        "\n",
        "if amount >= 100:\n",
        "    category = \"Major Expense\"\n",
        "    advice = \"Big spend — make sure it's necessary.\"\n",
        "elif amount >= 50:\n",
        "    category = \"Moderate Expense\"\n",
        "    advice = \"Significant cost — plan carefully.\"\n",
        "elif amount >= 10:\n",
        "    category = \"Minor Expense\"\n",
        "    advice = \"Small purchase — keep tracking.\"\n",
        "else:\n",
        "    category = \"Small Purchase\"\n",
        "    advice = \"Very small — usually fine.\"\n",
        "\n",
        "print(f\"Category: {category} | {advice}\")\n"
      ],
      "metadata": {
        "colab": {
          "base_uri": "https://localhost:8080/"
        },
        "id": "RFW1k3P3IfzS",
        "outputId": "9c2cdd08-6762-4f70-ffd3-be765c085ff4"
      },
      "execution_count": null,
      "outputs": [
        {
          "output_type": "stream",
          "name": "stdout",
          "text": [
            "Enter an expense amount: $5000\n",
            "Enter an expense amount: $2000\n",
            "Category: Major Expense | Big spend — make sure it's necessary.\n"
          ]
        }
      ]
    },
    {
      "cell_type": "markdown",
      "metadata": {
        "id": "Q9hIwzzqUSaA"
      },
      "source": [
        "---\n",
        "\n",
        "## Part 1: Warm-Up - Pattern Recognition (10 minutes)\n",
        "\n",
        "### From Grades to Money\n",
        "You've learned to classify test scores into letter grades. Let's apply the **exact same pattern** to classify expenses:\n",
        "\n",
        "**Grade Classifier** (familiar):\n",
        "```python\n",
        "if score >= 90:\n",
        "    grade = \"A\"\n",
        "elif score >= 80:\n",
        "    grade = \"B\"\n",
        "# ... etc\n",
        "```\n",
        "\n",
        "**Expense Classifier** (new domain, same logic):\n",
        "```python\n",
        "if amount >= 100:\n",
        "    category = \"Major Expense\"\n",
        "elif amount >= 50:\n",
        "    category = \"Moderate Expense\"\n",
        "elif amount >= 10:\n",
        "    category = \"Minor Expense\"\n",
        "else:\n",
        "    category = \"Small Purchase\"\n",
        "```\n",
        "\n",
        "**Your Task**: Write a complete expense classifier that:\n",
        "\n",
        "1. Asks user for an expense amount\n",
        "2. Classifies it using the ranges above\n",
        "3. Prints a helpful message for each category\n",
        "\n",
        "---\n",
        "\n",
        "## Part 2: Financial Decision Logic (15 minutes)\n",
        "\n",
        "### Budget Limit Checker\n",
        "Apply your if/else skills to real budget management:"
      ]
    },
    {
      "cell_type": "code",
      "metadata": {
        "id": "NR7GJYpSUSaB"
      },
      "source": [
        "print(\"=== Budget Limit Checker ===\")\n",
        "\n",
        "# Get user's budget and expense\n",
        "monthly_budget = float(input(\"Enter your monthly budget: $\"))\n",
        "expense = float(input(\"Enter expense amount: $\"))\n",
        "\n",
        "# Decision logic here - you write this part!\n",
        "# If expense > 50% of budget: \"Major purchase - think carefully\"\n",
        "# If expense > 25% of budget: \"Significant expense\"\n",
        "# If expense > 10% of budget: \"Moderate expense\"\n",
        "# Otherwise: \"Minor expense - within budget\""
      ],
      "execution_count": null,
      "outputs": []
    },
    {
      "cell_type": "code",
      "source": [
        "print(\"=== Budget Limit Checker ===\")\n",
        "\n",
        "monthly_budget = float(input(\"Enter your monthly budget: $\"))\n",
        "expense = float(input(\"Enter expense amount: $\"))\n",
        "\n",
        "ratio = expense / monthly_budget   # 占预算比例\n",
        "\n",
        "if ratio > 0.50:\n",
        "    msg = \"Major purchase - think carefully\"\n",
        "elif ratio > 0.25:\n",
        "    msg = \"Significant expense\"\n",
        "elif ratio > 0.10:\n",
        "    msg = \"Moderate expense\"\n",
        "else:\n",
        "    msg = \"Minor expense - within budget\"\n",
        "\n",
        "print(f\"Expense is {ratio*100:.1f}% of budget → {msg}\")\n"
      ],
      "metadata": {
        "colab": {
          "base_uri": "https://localhost:8080/"
        },
        "id": "HvXq-Y-CJbUe",
        "outputId": "7f3ce2bf-1674-418a-c273-3ff2a55e55e1"
      },
      "execution_count": null,
      "outputs": [
        {
          "output_type": "stream",
          "name": "stdout",
          "text": [
            "=== Budget Limit Checker ===\n",
            "Enter your monthly budget: $2000\n",
            "Enter expense amount: $56\n",
            "Expense is 2.8% of budget → Minor expense - within budget\n"
          ]
        }
      ]
    },
    {
      "cell_type": "markdown",
      "metadata": {
        "id": "7QFSIplCUSaC"
      },
      "source": [
        "### Savings Goal Progress\n",
        "Use multiple conditions to track savings progress:"
      ]
    },
    {
      "cell_type": "code",
      "metadata": {
        "id": "2c8oBvIPUSaC"
      },
      "source": [
        "print(\"=== Savings Goal Tracker ===\")\n",
        "\n",
        "goal_amount = float(input(\"Savings goal: $\"))\n",
        "current_savings = float(input(\"Current savings: $\"))\n",
        "\n",
        "# Your task: Calculate percentage and give encouraging feedback\n",
        "# 100%+: \"Goal achieved! Consider a new goal.\"\n",
        "# 75-99%: \"Almost there! You're doing great.\"\n",
        "# 50-74%: \"Halfway there - keep it up!\"\n",
        "# 25-49%: \"Good progress, stay consistent\"\n",
        "# Under 25%: \"Just getting started - you've got this!\""
      ],
      "execution_count": null,
      "outputs": []
    },
    {
      "cell_type": "markdown",
      "metadata": {
        "id": "rzYAsQiFUSaD"
      },
      "source": [
        "---\n",
        "\n",
        "## Part 3: Smart Purchase Advisor (20 minutes)\n",
        "\n",
        "### The Challenge\n",
        "Build a program that helps users make smart purchase decisions by considering multiple factors.\n",
        "\n",
        "### Requirements\n",
        "\n",
        "Your purchase advisor should:\n",
        "\n",
        "1. Get purchase amount and user's available money\n",
        "2. Check if they can afford it (basic affordability)\n",
        "3. Give different advice based on purchase size\n",
        "4. Consider their financial situation\n",
        "\n",
        "### Starter Framework"
      ]
    },
    {
      "cell_type": "code",
      "metadata": {
        "id": "HzbPAjN0USaD"
      },
      "source": [
        "print(\"=== Smart Purchase Advisor ===\")\n",
        "\n",
        "# Get financial information\n",
        "available_money = float(input(\"How much money do you have available? $\"))\n",
        "purchase_price = float(input(\"How much does the item cost? $\"))\n",
        "monthly_income = float(input(\"What's your monthly income? $\"))\n",
        "\n",
        "# Calculate affordability percentage\n",
        "affordability_ratio = purchase_price / available_money\n",
        "\n",
        "# Your task: Build the decision logic\n",
        "# Consider:\n",
        "# - Can they afford it at all?\n",
        "# - Is it a large percentage of their available money?\n",
        "# - Is it reasonable compared to their income?\n",
        "# - What advice should you give?\n",
        "\n",
        "# Suggestion: Use multiple if/elif conditions to give personalised advice"
      ],
      "execution_count": null,
      "outputs": []
    },
    {
      "cell_type": "code",
      "source": [
        "print(\"=== Smart Purchase Advisor ===\")\n",
        "\n",
        "available_money = float(input(\"How much money do you have available? $\"))\n",
        "purchase_price = float(input(\"How much does the item cost? $\"))\n",
        "monthly_income = float(input(\"What's your monthly income? $\"))\n",
        "\n",
        "# 基础可负担性\n",
        "if purchase_price > available_money:\n",
        "    print(f\"Save up first - you need ${purchase_price - available_money:.2f} more.\")\n",
        "else:\n",
        "    affordability_ratio = purchase_price / available_money   # 占可用资金的比例\n",
        "    income_ratio = purchase_price / monthly_income if monthly_income > 0 else 1e9\n",
        "\n",
        "    # 多条件决策：既看“现有钱比例”，也看“占月收入比例”\n",
        "    if affordability_ratio >= 0.7 or income_ratio >= 0.8:\n",
        "        print(f\"You can afford it, but it's {affordability_ratio*100:.1f}% of your available money.\")\n",
        "        print(\"Consider waiting or splitting the payment.\")\n",
        "    elif affordability_ratio >= 0.3 or income_ratio >= 0.4:\n",
        "        print(\"This seems like a reasonable purchase for your budget — plan cashflow.\")\n",
        "    else:\n",
        "        print(\"This is a minor expense — go for it!\")\n"
      ],
      "metadata": {
        "id": "Hg9n2MJvJqjZ"
      },
      "execution_count": null,
      "outputs": []
    },
    {
      "cell_type": "markdown",
      "metadata": {
        "id": "_tC5axg-USaF"
      },
      "source": [
        "### Sample Decision Logic to Implement\n",
        "\n",
        "- **Can't afford**: \"Save up first - you need $X more\"\n",
        "- **Can afford but expensive**: \"You can afford it, but it's Y% of your available money. Consider waiting.\"\n",
        "- **Reasonable purchase**: \"This seems like a reasonable purchase for your budget\"\n",
        "- **Small purchase**: \"This is a minor expense - go for it!\"\n",
        "\n",
        "### Bonus Challenges\n",
        "\n",
        "If you finish early, add these features:\n",
        "\n",
        "1. **Emergency fund check**: Warn if purchase would drain emergency savings\n",
        "2. **Category-based advice**: Different advice for necessities vs luxuries\n",
        "3. **Payment plan calculator**: Show monthly payment options for large purchases\n",
        "\n",
        "---\n",
        "\n",
        "## Part 4: Building Your Finance Tracker Foundation (15 minutes)\n",
        "\n",
        "### Start Your Semester Project\n",
        "\n",
        "Create a new notebook called \"Personal_Finance_Tracker\" and build the foundation:"
      ]
    },
    {
      "cell_type": "code",
      "metadata": {
        "id": "dAYWWTPHUSaH"
      },
      "source": [
        "print(\"=== Personal Finance Tracker v0.1 ===\")\n",
        "print(\"Week 3: Smart Budget Decisions\")\n",
        "print()\n",
        "\n",
        "# User setup\n",
        "name = input(\"Enter your name: \")\n",
        "monthly_income = float(input(\"Enter your monthly income: $\"))\n",
        "\n",
        "print(f\"\\nWelcome to your finance tracker, {name}!\")\n",
        "print(f\"Monthly income: ${monthly_income:.2f}\")\n",
        "\n",
        "# This week's feature: Expense categorisation\n",
        "print(\"\\n--- Expense Entry ---\")\n",
        "expense_amount = float(input(\"Enter an expense: $\"))\n",
        "expense_description = input(\"What was this expense for? \")\n",
        "\n",
        "# Apply your decision-making skills here\n",
        "# Categorise the expense and give feedback\n",
        "# This becomes the foundation you'll build on each week!"
      ],
      "execution_count": null,
      "outputs": []
    },
    {
      "cell_type": "markdown",
      "metadata": {
        "id": "58-KlCmaUSaJ"
      },
      "source": [
        "### Your Mission\n",
        "\n",
        "1. Implement the expense categorisation logic\n",
        "2. Add budget percentage calculations\n",
        "3. Give helpful feedback to the user\n",
        "4. Save this notebook - you'll expand it every week!\n",
        "\n",
        "---\n",
        "\n",
        "## Reflection Questions\n",
        "\n",
        "After completing the mini-project, consider:\n",
        "\n",
        "1. **Pattern Recognition**: How were the financial decisions similar to grade calculations?\n",
        "2. **Real-World Application**: Which financial decision logic would be most useful to you personally?\n",
        "3. **Logic Complexity**: What made some decisions harder to code than others?\n",
        "4. **Future Features**: What financial decisions would you like your tracker to help with?\n",
        "\n",
        "---\n",
        "\n",
        "## Looking Ahead\n",
        "\n",
        "### Next Week Preview\n",
        "\n",
        "Week 4 will add **loops** to your finance tracker:\n",
        "\n",
        "- Track multiple expenses in one session\n",
        "- Calculate running totals\n",
        "- Process transaction histories\n",
        "- Validate input until it's correct\n",
        "\n",
        "### Final Project Connection\n",
        "\n",
        "Each week adds new capabilities:\n",
        "\n",
        "- **Week 3**: Decision making (budget limits, categorisation)\n",
        "- **Week 4**: Repetition (multiple transactions, validation loops)\n",
        "- **Week 5**: Data storage (saving/loading financial data)\n",
        "- **Final**: AI integration (smart financial advice, pattern recognition)\n",
        "\n",
        "Your mini-projects are building blocks for something you'll actually want to use!\n",
        "\n",
        "---\n",
        "\n",
        "## Success Criteria\n",
        "\n",
        "**You'll know you're successful when**:\n",
        "- ✅ Your programs make different decisions based on financial data\n",
        "- ✅ You can explain why you chose specific budget thresholds\n",
        "- ✅ Your code handles various expense amounts appropriately\n",
        "- ✅ You see the connection between programming concepts and real financial decisions\n",
        "- ✅ You're excited about what you'll add to your tracker next week\n",
        "\n",
        "**Remember**: This is unassessed practice - focus on learning and experimenting!"
      ]
    }
  ],
  "metadata": {
    "kernelspec": {
      "display_name": "Python 3",
      "language": "python",
      "name": "python3"
    },
    "colab": {
      "provenance": [],
      "include_colab_link": true
    }
  },
  "nbformat": 4,
  "nbformat_minor": 0
}